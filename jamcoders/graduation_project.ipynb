{
  "cells": [
    {
      "cell_type": "markdown",
      "metadata": {
        "id": "_u0hxviQUWLC"
      },
      "source": [
        "## Graduation Project"
      ]
    },
    {
      "cell_type": "markdown",
      "metadata": {},
      "source": [
        " The objective is to create an agent (or a function), that explores a grid, to cover every available square with a valid path, using for example `dfs` or `bfs` while avoiding the walls which function as obstacles.\n",
        "\n",
        "If this is something you're interested in, definitely try to code a functions that does this, or even one that is able to do it efficiently and optimally! This is a much more open project than our typical labs, but one possible solution is provided. Many new concepts are involved in this project, including `nonlocal` scope, `variable` number of arguments, using `sets`, nested functions, etc. but I hope you guys will be able to learn and explore it on your own without any TAs (with the help of best friend Google)\n",
        "\n",
        "If you have any problems with it (or even any solutions!), feel free to text me or any of the other TAs. There is a lot less guidance provided in this notebook, but there is a potential solution included below under `Staff Solution`.\n",
        "\n",
        "If you do decide to take up the challenge, I wish you good luck and all the best!"
      ]
    },
    {
      "cell_type": "code",
      "execution_count": 11,
      "metadata": {
        "id": "IypCPAAzyV70"
      },
      "outputs": [],
      "source": [
        "!pip install colorama --quiet\n",
        "from IPython.display import clear_output, HTML, display\n",
        "import random\n",
        "from colorama import Fore, Back, Style\n",
        "from time import sleep, time\n",
        "from functools import partial\n",
        "from threading import Timer # potential add on if we want to fix the input bug for regular play\n",
        "print = partial(print, flush=True)"
      ]
    },
    {
      "cell_type": "markdown",
      "metadata": {
        "id": "W5YXoMSQUA-0"
      },
      "source": [
        "## Important Helper Functions and Constants (do not modify)"
      ]
    },
    {
      "cell_type": "code",
      "execution_count": 20,
      "metadata": {
        "id": "3JDFiU6RAy5V"
      },
      "outputs": [],
      "source": [
        "ANSI_COLOR_CHARACTERS = {\n",
        "    \"black\": Fore.BLACK,\n",
        "    \"blue\": Fore.BLUE,\n",
        "    \"cyan\": Fore.CYAN,\n",
        "    \"green\": Fore.GREEN,\n",
        "    \"grey\": Fore.LIGHTBLACK_EX,\n",
        "    \"light_blue\": Fore.LIGHTBLUE_EX,\n",
        "    \"light_cyan\": Fore.LIGHTCYAN_EX,\n",
        "    \"light_green\": Fore.LIGHTGREEN_EX,\n",
        "    \"light_magenta\": Fore.LIGHTMAGENTA_EX,\n",
        "    \"light_red\": Fore.LIGHTRED_EX,\n",
        "    \"light_white\": Fore.LIGHTWHITE_EX,\n",
        "    \"light_yellow\": Fore.LIGHTYELLOW_EX,\n",
        "    \"magenta\": Fore.MAGENTA,\n",
        "    \"red\": Fore.RED,\n",
        "    \"white\": Fore.WHITE,\n",
        "    \"yellow\": Fore.YELLOW,\n",
        "}\n",
        "\n",
        "def colored(string, color):\n",
        "  assert color in ANSI_COLOR_CHARACTERS, f\"We don't have a color named '{color}'. Please use one of the following colot names: {list(ANSI_COLOR_CHARACTERS.keys())}\"\n",
        "  ansi_char = ANSI_COLOR_CHARACTERS[color]\n",
        "  return ansi_char + string + Fore.RESET\n",
        "\n",
        "WIN = \"WIN\"\n",
        "CONTINUE = \"CONTINUE\"\n",
        "LOSE = \"LOSE\"\n",
        "MOVES = [(0,1),(1,0),(-1,0),(0,-1)]\n",
        "EMPTY_CELL = \"*\"\n",
        "EMPTY_CELL = \"⬜\"\n",
        "WALLS = \"⬛\"\n",
        "\n",
        "CURRENT = \"🏃‍♂️\"\n",
        "PATH_HISTORY = \"👣\"\n",
        "STANDARD_ERROR = \"Your move is not valid!\"\n",
        "\n",
        "def center_output():\n",
        "  display(HTML(\"\"\"\n",
        "  <style>\n",
        "  #output-body {\n",
        "      display: flex;\n",
        "      align-items: center;\n",
        "      justify-content: center;\n",
        "  }\n",
        "  </style>\n",
        "  \"\"\"))\n",
        "\n",
        "\n",
        "import errno\n",
        "import os\n",
        "import signal\n",
        "import functools\n",
        "\n",
        "class TimeoutError(Exception):\n",
        "    pass\n",
        "\n",
        "def timeout(seconds=10, error_message=os.strerror(errno.ETIME)):\n",
        "    \"\"\"\n",
        "    Use the @timeout decorator to stop a function after it exceeds some number of seconds\n",
        "    \"\"\"\n",
        "\n",
        "    def decorator(func):\n",
        "        def _handle_timeout(signum, frame):\n",
        "            raise TimeoutError(error_message)\n",
        "\n",
        "        @functools.wraps(func)\n",
        "        def wrapper(*args, **kwargs):\n",
        "            signal.signal(signal.SIGALRM, _handle_timeout)\n",
        "            signal.alarm(seconds)\n",
        "            try:\n",
        "                result = func(*args, **kwargs)\n",
        "            finally:\n",
        "                signal.alarm(0)\n",
        "            return result\n",
        "\n",
        "        return wrapper\n",
        "\n",
        "    return decorator"
      ]
    },
    {
      "cell_type": "code",
      "execution_count": 21,
      "metadata": {
        "id": "k_vL_66J2UH1"
      },
      "outputs": [],
      "source": [
        "\n",
        "def get_grid_string(grid):\n",
        "  \"\"\"\n",
        "    Converts grid (2d list) to a single string\n",
        "  \"\"\"\n",
        "  return ''.join(item for row in grid for item in row)\n",
        "\n",
        "def get_move(char):\n",
        "  \"\"\"\n",
        "    Returns the movement in the grid based on input\n",
        "  \"\"\"\n",
        "  if char == 'w': return (-1,0)\n",
        "  if char == 'a': return (0,-1)\n",
        "  if char == 's': return (1,0)\n",
        "  if char == 'd': return (0,1)\n",
        "  return 0,0\n",
        "\n",
        "def check_state(grid, curr_row, curr_col):\n",
        "  \"\"\"\n",
        "  Takes in the grid and the most recent move\n",
        "  Returns a game state of (WIN, CONTINUE, LOSE)\n",
        "  \"\"\"\n",
        "  \n",
        "  # win if there are no more '.' in the grid\n",
        "  grid_string = get_grid_string(grid)\n",
        "  if EMPTY_CELL not in grid_string: return WIN\n",
        "\n",
        "  for x,y in MOVES:\n",
        "    r,c = curr_row + x, curr_col + y\n",
        "    if 0 <= r < len(grid) and 0 <= c < len(grid[0]) and grid[r][c] == EMPTY_CELL:\n",
        "      return CONTINUE\n",
        "  \n",
        "  # lose if no more moves available\n",
        "  return LOSE\n",
        "\n",
        "\n",
        "def print_grid(grid):\n",
        "  \"\"\"\n",
        "    Prints grid in a human readable fashion\n",
        "  \"\"\"\n",
        "  string = ''\n",
        "  for i in range(len(grid)):\n",
        "    string += ' '.join(grid[i]) + '\\n'\n",
        "  print(string, flush=True)\n",
        "\n",
        "def create_grid(rows, columns):\n",
        "  \"\"\" \n",
        "    Create a grid of rows x columns, populated with walls\n",
        "  \"\"\"\n",
        "  return [[WALLS] * columns for _ in range(rows)]\n",
        "\n",
        "\n",
        "def generate_random_path(grid,path_length):\n",
        "  \"\"\" \n",
        "    Generates a random path of path_length in the grid\n",
        "  \"\"\"\n",
        "\n",
        "  rows, cols = len(grid), len(grid[0])\n",
        "  if path_length >= rows*cols:\n",
        "    print(\"Invalid input, path length cannot exceed cells in grid!\", flush=True)\n",
        "    return\n",
        "  result_path = []\n",
        "  visited = set()\n",
        "  def dfs(row, col, path):\n",
        "    if not ((0 <= row < rows) and (0 <=  col < cols)): return False\n",
        "    if (row,col) in visited: return False\n",
        "    path.append((row,col))\n",
        "    visited.add((row,col))\n",
        "    if len(path) == path_length: return True\n",
        "    random.shuffle(MOVES)\n",
        "\n",
        "    for x,y in MOVES:\n",
        "      if dfs(row+x,col+y, path):\n",
        "        return True\n",
        "    path.pop()\n",
        "    visited.remove((row,col))\n",
        "    return False\n",
        "\n",
        "  dfs(0,0,result_path)\n",
        "  return result_path\n",
        "\n",
        "def make_grid_path(grid, path):\n",
        "  \"\"\" \n",
        "    Make all the cells along the path in the grid empty\n",
        "  \"\"\"\n",
        "  modified_grid = [i[:] for i in grid]\n",
        "  for x,y in path:\n",
        "    modified_grid[x][y] = EMPTY_CELL\n",
        "  return modified_grid\n",
        "\n",
        "\n",
        "\n",
        "def create_level(grid_rows, grid_cols, path_length=None,seed=None,verbose=True):\n",
        "  \"\"\"\n",
        "    Creates a random grid level\n",
        "    Args:\n",
        "        grid_rows (int) : number of rows in the grid\n",
        "        grid_cols (int) : number of cols in the grid\n",
        "        (optional) path_length (int): the number of empty cells\n",
        "        (optional) seed (int): to seed the RNG to generate a specific grid\n",
        "        (optional) verbose (bool): to print out the grid level characteristics\n",
        "    Returns:\n",
        "        grid_level (List(List[str])): the grid level with the empty cells\n",
        "        seed (int): random seed used to generate this level\n",
        "  \"\"\"\n",
        "\n",
        "  if not seed: seed = random.randint(0,10000000)\n",
        "  random.seed(seed)\n",
        "  MOVES.sort()\n",
        "\n",
        "  assert grid_rows > 0 and grid_cols > 0, \"Please give valid input... 😒😒😒\"\n",
        "  grid = create_grid(grid_rows, grid_cols)\n",
        "\n",
        "  if not path_length: path_length = random.randint(5,grid_rows*grid_cols - 5)\n",
        "  path = generate_random_path(grid, path_length)\n",
        "\n",
        "  if verbose: print(f\"Random seed: {seed}\\n\")\n",
        "  grid_level = make_grid_path(grid, path)\n",
        "\n",
        "  if verbose: print_grid(grid_level)\n",
        "\n",
        "  return grid_level, path,seed\n",
        "\n",
        "def check_valid(grid, grid_path):\n",
        "  \"\"\" \n",
        "    Checks if the solution path is valid\n",
        "    Args:\n",
        "        grid (List(List[str])) : grid level\n",
        "        grid_path (List(Tuple[int])): possible solution path\n",
        "    Returns:\n",
        "        a boolean if the given grid_path is a valid solution\n",
        "  \"\"\"\n",
        "\n",
        "  rows,cols = len(grid), len(grid[0])\n",
        "  row,col = 0,0\n",
        "  if row != grid_path[0][0] or col != grid_path[0][1]: return False\n",
        "\n",
        "  v = set()\n",
        "  v.add((0,0))\n",
        "  for i in range(1, len(grid_path)):\n",
        "    rr,cc = grid_path[i]\n",
        "    if (rr,cc) in v: return False\n",
        "\n",
        "    if not ((0 <= rr < rows) and (0<= cc < cols)): return False\n",
        "    if abs(row - rr) + abs(col - cc) != 1: return False\n",
        "    if grid[rr][cc] != EMPTY_CELL:\n",
        "      return False\n",
        "    v.add((rr,cc))\n",
        "    row,col = rr,cc\n",
        "\n",
        "  grid_string = get_grid_string(grid)\n",
        "  return grid_string.count(EMPTY_CELL) == len(v)\n",
        "\n",
        "def exploration_animation(grid, grid_path):\n",
        "  \"\"\" \n",
        "    Prints an animation of the exploration of the grid using the grid_path if it is valid\n",
        "    Args:\n",
        "        grid (List(List[str])) : grid level\n",
        "        grid_path (List(Tuple[int])): solution path\n",
        "    Returns:\n",
        "        None\n",
        "  \"\"\"\n",
        "\n",
        "  if not check_valid(grid, grid_path):\n",
        "    print(\"Invalid solution!\")\n",
        "    return\n",
        "  grid_copy = [i[:] for i in grid]\n",
        "  for idx, (row,col) in enumerate(grid_path):\n",
        "    sleep(1)\n",
        "    if idx != 0:\n",
        "      old_row, old_col = grid_path[idx-1]\n",
        "      grid_copy[old_row][old_col] = PATH_HISTORY\n",
        "    clear_output(wait=True)\n",
        "    grid_copy[row][col] = CURRENT\n",
        "    print_grid(grid_copy)\n",
        "  clear_output(wait=True)\n",
        "  grid_copy[row][col] = PATH_HISTORY\n",
        "  print_grid(grid_copy)\n",
        "\n",
        "  print(\"CONGRATULATIONS!\")"
      ]
    },
    {
      "cell_type": "code",
      "execution_count": 22,
      "metadata": {
        "id": "ruBzE07s-wkP"
      },
      "outputs": [],
      "source": [
        "def play(grid):\n",
        "  \"\"\" \n",
        "    Plays the game of the grid level using the python input\n",
        "  \"\"\"\n",
        "  grid_copy = [i[:] for i in grid]\n",
        "  grid_copy[0][0] = CURRENT\n",
        "  row, col = 0,0\n",
        "  rows, cols = len(grid), len(grid[0])\n",
        "  error_message = ''\n",
        "\n",
        "  while True:\n",
        "    clear_output(wait=False)\n",
        "    print_grid(grid_copy)\n",
        "\n",
        "    state = check_state(grid_copy, row,col)\n",
        "    if state == WIN:\n",
        "      print(\"YOU WIN!\")\n",
        "      break\n",
        "\n",
        "    if state == LOSE:\n",
        "      print(\"YOU LOSE!\")\n",
        "      print(\"Play again?\")\n",
        "      break\n",
        "\n",
        "    if error_message: print(error_message)\n",
        "\n",
        "    move = input(\"Enter your move (WASD): \")\n",
        "    move = move.lower()\n",
        "\n",
        "    if move not in 'wasd' or len(move) != 1:\n",
        "      error_message = f\"Your move '{move}' is not a valid move.\"\n",
        "      continue\n",
        "    x,y = get_move(move)\n",
        "    xx, yy = row+x, col+y\n",
        "    if not ((0 <= xx < rows) and (0 <= yy < cols)):\n",
        "      error_message = STANDARD_ERROR\n",
        "      continue\n",
        "    if grid_copy[xx][yy] != EMPTY_CELL:\n",
        "      error_message = STANDARD_ERROR\n",
        "      continue\n",
        "    grid_copy[row][col] = PATH_HISTORY\n",
        "    grid_copy[xx][yy] = CURRENT\n",
        "    row,col = xx,yy\n",
        "    error_message = ''"
      ]
    },
    {
      "cell_type": "markdown",
      "metadata": {
        "id": "iDJeHo93UA-7"
      },
      "source": [
        "### Let's play the game!\n",
        "With the code we have so far, we can play a simple game using inputs (WASD). The objective is to fill in all the blank squares on the grid. You may not retreat on your path or go through the walls.\n",
        "\n",
        "A few things about the icons you will see\n",
        "- `⬜`: empty square, you may step here\n",
        "- `⬛`: a wall, you may not step here\n",
        "- `🏃‍♂️`: current location\n",
        "- `👣`: a place that you have stepped before\n",
        "\n",
        "First we create our level which is generated randomly. \n",
        "\n",
        "```py\n",
        "# 4x4 grid with 10 empty cells\n",
        "grid_level, grid_path, seed = create_level(4,4,10)\n",
        "```\n",
        "\n",
        "A random generator is used to generate the grid. If you like a particular level, you can take note of the `seed` and pass it into the function that generates the grid `create_level`"
      ]
    },
    {
      "cell_type": "code",
      "execution_count": 5,
      "metadata": {
        "colab": {
          "base_uri": "https://localhost:8080/"
        },
        "id": "zvXIpruWQMJL",
        "outputId": "d64a67da-a1f1-467a-f511-2e91117428c4"
      },
      "outputs": [
        {
          "name": "stdout",
          "output_type": "stream",
          "text": [
            "Random seed: 9809112\n",
            "\n",
            "⬜ ⬛ ⬛ ⬛\n",
            "⬜ ⬜ ⬜ ⬛\n",
            "⬛ ⬜ ⬜ ⬜\n",
            "⬛ ⬜ ⬜ ⬜\n",
            "\n"
          ]
        }
      ],
      "source": [
        "grid_level, grid_path, seed = create_level(4,4, 10, 9809112)"
      ]
    },
    {
      "cell_type": "markdown",
      "metadata": {
        "id": "PH8NqklHUA-8"
      },
      "source": [
        "### Then we play it!\n",
        "\n",
        "> Note: there may be some bugs where the input box suddenly disappears. If that happens, just restart the cell and try again! (Or if you are brave enough to explore the inner workings of python, you can try to debug and fix it)"
      ]
    },
    {
      "cell_type": "code",
      "execution_count": 6,
      "metadata": {
        "colab": {
          "base_uri": "https://localhost:8080/"
        },
        "id": "pYZ4-4ZIM2IQ",
        "outputId": "8c9e0232-b3c2-4bbe-ebb8-f51f2dca76e3"
      },
      "outputs": [
        {
          "name": "stdout",
          "output_type": "stream",
          "text": [
            "👣 ⬛ ⬛ ⬛\n",
            "👣 👣 👣 ⬛\n",
            "⬛ 🏃‍♂️ 👣 👣\n",
            "⬛ 👣 👣 👣\n",
            "\n",
            "YOU WIN!\n"
          ]
        }
      ],
      "source": [
        "play(grid_level)"
      ]
    },
    {
      "cell_type": "markdown",
      "metadata": {},
      "source": [
        "Hopefully you managed to complete the level! Now that we know how to play it manually, let's try to code something that can solve it! We're familiar with Depth First Search (DFS), so your first challenge is to try and use that to find a valid path! \n",
        "\n",
        "A few pointers to take note\n",
        "- We want to try to create a solution on the grid, but we don't want to modify the grid. Because of that, if you would like to modify or access the grid, please use `grid_copy` instead of `grid`\n",
        "- We want to return our solution path, so for every step you take, please add it to the `path` list.\n",
        "\n",
        "E.g. If I start from `(0,0)` and move to the right once and move down once, my `path` variable should contain\n",
        "\n",
        "```py\n",
        "path = [(0,0), (0,1), (1,1)]\n",
        "```\n",
        "\n",
        "> P.S. `(0,0)` is known as a tuple, just take them as lists that cannot be modified! And to find out more, remember that Google is your best friend"
      ]
    },
    {
      "cell_type": "markdown",
      "metadata": {
        "id": "aj0AvOzbaRYm"
      },
      "source": [
        "## Q1: Code an agent to solve the game"
      ]
    },
    {
      "cell_type": "markdown",
      "metadata": {
        "id": "nHNKHxp1Wn4i"
      },
      "source": [
        "### Your solution"
      ]
    },
    {
      "cell_type": "code",
      "execution_count": 7,
      "metadata": {
        "id": "cCCrnCNBWo8N"
      },
      "outputs": [],
      "source": [
        "def student_agent(grid):\n",
        "  # given an input of a grid\n",
        "  # write an algorithm to return a path that can cover all empty cells starting from the top left cell\n",
        "  \n",
        "  grid_copy = [i[:] for i in grid]\n",
        "  path = []\n",
        "  \n",
        "  # YOUR CODE HERE\n",
        "\n",
        "\n",
        "  return path"
      ]
    },
    {
      "cell_type": "markdown",
      "metadata": {
        "id": "HKwgasYdWmId"
      },
      "source": [
        "### Staff Solution\n",
        "\n",
        "If you would like to view a sample solution, you can take a look here. However, this solution is very much not optimized, and can only pass a few of the test cases that we have. Try to do better than what we have shown you here!"
      ]
    },
    {
      "cell_type": "code",
      "execution_count": 8,
      "metadata": {
        "id": "g7YePwwxUxLC"
      },
      "outputs": [],
      "source": [
        "# basic dfs answer with no optimization\n",
        "def staff_agent(grid):\n",
        "  # given an input of a grid\n",
        "  # write an algorithm to return the correct path\n",
        "  grid_copy = [i[:] for i in grid]\n",
        "  path = []\n",
        "\n",
        "  # YOUR CODE STARTS HERE\n",
        "  row,col = 0,0\n",
        "  path.append((row,col))\n",
        "  rows,cols = len(grid), len(grid[0])\n",
        "  count = get_grid_string(grid).count(EMPTY_CELL)\n",
        "  grid_copy[0][0] = PATH_HISTORY\n",
        "\n",
        "  def dfs(curr_row, curr_col):\n",
        "    nonlocal count\n",
        "    count -= 1\n",
        "    if count == 0:\n",
        "      return True\n",
        "\n",
        "    for x,y in MOVES:\n",
        "      rr, cc = curr_row + x, curr_col + y\n",
        "      if not (0 <= rr < rows and 0 <= cc < cols): continue\n",
        "      if grid_copy[rr][cc] != EMPTY_CELL: continue\n",
        "      grid_copy[rr][cc] = PATH_HISTORY\n",
        "      path.append((rr,cc))\n",
        "      if dfs(rr,cc): return True\n",
        "      path.pop()\n",
        "      grid_copy[rr][cc] = EMPTY_CELL\n",
        "\n",
        "    count += 1\n",
        "    return False\n",
        "\n",
        "  dfs(0,0)\n",
        "  # YOUR CODE ENDS HERE\n",
        "\n",
        "  return path\n"
      ]
    },
    {
      "cell_type": "markdown",
      "metadata": {
        "id": "s_u7Lk75aUfi"
      },
      "source": [
        "## Check your answer"
      ]
    },
    {
      "cell_type": "code",
      "execution_count": 9,
      "metadata": {
        "id": "xZojk1XZYIAW"
      },
      "outputs": [],
      "source": [
        "def test_agent(dfs_function):\n",
        "  # grid_level, grid_path, seed = create_level(4,4, 10, 9809112) -> I like testing on this grid\n",
        "\n",
        "  # feel free to change the level that you would like to test on\n",
        "  # this tests on a 4 by 4 grid with 10 empty cells (so 6 walls)\n",
        "  grid_level, grid_path, seed = create_level(4,4, 10)\n",
        "  path = dfs_function(grid_level)\n",
        "  exploration_animation(grid_level, path)\n"
      ]
    },
    {
      "cell_type": "code",
      "execution_count": 10,
      "metadata": {
        "colab": {
          "base_uri": "https://localhost:8080/"
        },
        "id": "cPT5qwbsc_8Q",
        "outputId": "7b1c6f7c-702e-4782-a610-9b3324b2ee61"
      },
      "outputs": [
        {
          "name": "stdout",
          "output_type": "stream",
          "text": [
            "👣 ⬛ 👣 👣\n",
            "👣 👣 👣 👣\n",
            "⬛ ⬛ 👣 👣\n",
            "⬛ ⬛ 👣 ⬛\n",
            "\n",
            "CONGRATULATIONS!\n"
          ]
        }
      ],
      "source": [
        "for _ in range(2):\n",
        "  # test_agent(student_agent) # UNCOMMENT THIS LINE ONCE YOU\"RE DONE\n",
        "  test_agent(staff_agent) # COMMENT THIS LINE OUT ONCE YOU\"RE DONE"
      ]
    },
    {
      "cell_type": "markdown",
      "metadata": {},
      "source": [
        "Well done! You managed to complete this challenge, it definitely is not easy. However, here's a follow up challenge. How can you make your code even better, such that even if it is applied on big graphs, it will still find a solution in a reasonable time?\n",
        "\n",
        "We have a few test cases below for you to try it out. See if you can find a solution for all the levels in just 5 seconds!"
      ]
    },
    {
      "cell_type": "markdown",
      "metadata": {},
      "source": [
        "### Benchmarking"
      ]
    },
    {
      "cell_type": "code",
      "execution_count": 23,
      "metadata": {},
      "outputs": [],
      "source": [
        "def benchmark(fn):\n",
        "  levels = [\n",
        "      (4,4, 10, 5599278,False),\n",
        "      (4,4, 10, 9809112,False),\n",
        "      (8,8, 38, 5599278, False),\n",
        "      (8,8, 40, 8333500, False),\n",
        "      (9,9, 40, 1555078, False),\n",
        "      (9,9, 45, 1555078, False),\n",
        "      (9,9, 50, 1555078, False),\n",
        "      (9,9, 55, 1555078, False),\n",
        "      (9,9, 60, 1555078, False),\n",
        "      (10,10,60,1555078,False),\n",
        "      (9,9, 60, 9773395, False),\n",
        "      (9,9, 60,6418357,False),\n",
        "      (10,10,70,7310160,False),\n",
        "      (12,12, 80, 7599824, False),\n",
        "      (12,12, 90, 8838895, False),\n",
        "      (16,16, 80, 5443243, False),\n",
        "      (16,16, 110, 4023681, False),\n",
        "      \n",
        "  ]\n",
        "  t0 = time()\n",
        "  solved_details = []\n",
        "  time_given = 5\n",
        "  \n",
        "  @timeout(time_given)\n",
        "  def test_fn():\n",
        "    for idx, level in enumerate(levels):\n",
        "      grid_level, grid_path, seed = create_level(*level)\n",
        "      t1 = time()\n",
        "      path = fn(grid_level)\n",
        "\n",
        "      # verify solution\n",
        "      if not check_valid(grid_level, path):\n",
        "        print(f\"Invalid path for level {idx+1}\")\n",
        "      else:\n",
        "        t2 = time()\n",
        "        solved_details.append(f\"Solved level {idx+1} in {round(t2 - t1, 5)} seconds\")\n",
        "  \n",
        "  try:\n",
        "    test_fn()\n",
        "  except Exception as e:\n",
        "    # print(e)\n",
        "    print(f\"{time_given} seconds has elapsed\")\n",
        "  finally:\n",
        "    t_last = time()\n",
        "    print(\"Total time taken:\", round(t_last - t0, 5), \"seconds\")\n",
        "    print(f\"Levels solved: {len(solved_details)} / {len(levels)}\")\n",
        "    print(\"Details:\")\n",
        "    for i in solved_details:\n",
        "      print(i)"
      ]
    },
    {
      "cell_type": "code",
      "execution_count": 24,
      "metadata": {},
      "outputs": [
        {
          "name": "stdout",
          "output_type": "stream",
          "text": [
            "5 seconds has elapsed\n",
            "Total time taken: 5 seconds\n",
            "Levels solved: 10 / 17\n",
            "Details:\n",
            "Solved level 1 in 5.6743621826171875e-05 seconds\n",
            "Solved level 2 in 2.9325485229492188e-05 seconds\n",
            "Solved level 3 in 0.0009400844573974609 seconds\n",
            "Solved level 4 in 0.0031652450561523438 seconds\n",
            "Solved level 5 in 0.002752065658569336 seconds\n",
            "Solved level 6 in 0.016485929489135742 seconds\n",
            "Solved level 7 in 0.12607216835021973 seconds\n",
            "Solved level 8 in 0.2293534278869629 seconds\n",
            "Solved level 9 in 0.18251299858093262 seconds\n",
            "Solved level 10 in 1.5828232765197754 seconds\n"
          ]
        }
      ],
      "source": [
        "benchmark(staff_agent) # how many levels can this naive solution solve?\n",
        "# benchmark(student_agent) # let's see if you can do better!"
      ]
    },
    {
      "cell_type": "markdown",
      "metadata": {
        "id": "lSvByesDfmjh"
      },
      "source": [
        "### Note from Jon\n",
        "\n",
        "By the time anyone sees this, it would be the end of JamCoders 2023 :'( ... its been such a blessed month here and I hope that this has been a meaningful month for every one of you.\n",
        "\n",
        "I hope that for many of you, that it would not be the end of your coding journey. This was a potential project to be included at the end of week 3 but was neglected in favor of more exam prep. It relates to the game that Timnit was showing at the end of Week 2.\n",
        "\n",
        "The objective is to create a function, that explores a grid, to cover every available square with a valid path, using for example `dfs` or `bfs` while avoiding the walls which function as obstacles.\n",
        "\n",
        "If this is something you're interested in, definitely try to code a functions that does this, or even one that is able to do it efficiently and optimally! This is a much more open project than our typical labs, but one possible solution is provided. Many new concepts are involved in this project, including `nonlocal` scope, `variable` number of arguments, using `sets` etc. but I hope you guys will be able to learn it on your own without any TAs (with the help of best friend Google)\n",
        "\n",
        "If you have any problems with it (or even any solutions!), feel free to text me or any of the other TAs. There is a lot less guidance provided in this notebook, but there is a potential solution included below under `Staff Solution`.\n",
        "\n",
        "If you do decide to take up the challenge, I wish you good luck and all the best for your future!"
      ]
    },
    {
      "cell_type": "markdown",
      "metadata": {},
      "source": [
        "Oh one extra thing, I wrote this question for the exam but it did not get used in the end, here it is, and see if you can solve it :))\n",
        "\n",
        "```py\n",
        "def unj(pawat, patwa):\n",
        "    print(patwa)\n",
        "    return pawat\n",
        "\n",
        "def jit(wat,tana):\n",
        "    print(wat + tana)\n",
        "\n",
        "def pawat():\n",
        "    return 'unjitwattana'\n",
        "\n",
        "pawat() # Prints: __________________\n",
        "print(jit(pawat(), pawat())) # Prints: __________________\n",
        "print(unj(jit('pawat', 'patwa'), jit('patwa', 'pawat'))) # Prints: __________________\n",
        "```"
      ]
    }
  ],
  "metadata": {
    "colab": {
      "provenance": []
    },
    "kernelspec": {
      "display_name": "Python 3",
      "name": "python3"
    },
    "language_info": {
      "codemirror_mode": {
        "name": "ipython",
        "version": 3
      },
      "file_extension": ".py",
      "mimetype": "text/x-python",
      "name": "python",
      "nbconvert_exporter": "python",
      "pygments_lexer": "ipython3",
      "version": "3.6.10"
    }
  },
  "nbformat": 4,
  "nbformat_minor": 0
}
